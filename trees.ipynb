{
 "cells": [
  {
   "cell_type": "code",
   "execution_count": 5,
   "metadata": {},
   "outputs": [],
   "source": [
    "import numpy as np\n",
    "import pandas as pd\n",
    "from collections import Counter\n",
    "from sklearn.linear_model import LogisticRegression\n",
    "from sklearn.metrics import confusion_matrix, balanced_accuracy_score\n",
    "from imblearn.metrics import classification_report_imbalanced\n",
    "from imblearn.combine import SMOTEENN\n",
    "from imblearn.ensemble import BalancedRandomForestClassifier"
   ]
  },
  {
   "cell_type": "code",
   "execution_count": 2,
   "metadata": {},
   "outputs": [],
   "source": [
    "X_train = pd.read_csv('data/X_train.csv', index_col=0)\n",
    "X_test = pd.read_csv('data/X_test.csv', index_col=0)\n",
    "y_train = pd.read_csv('data/y_train.csv', index_col=0)\n",
    "y_test = pd.read_csv('data/y_test.csv', index_col=0)"
   ]
  },
  {
   "cell_type": "code",
   "execution_count": 3,
   "metadata": {},
   "outputs": [],
   "source": [
    "y_train = y_train['loan_status']\n",
    "y_test = y_test['loan_status']"
   ]
  },
  {
   "cell_type": "code",
   "execution_count": 4,
   "metadata": {},
   "outputs": [],
   "source": [
    "smote_enn = SMOTEENN(random_state=0)\n",
    "X_resampled, y_resampled = smote_enn.fit_resample(X_train, y_train)"
   ]
  },
  {
   "cell_type": "code",
   "execution_count": 7,
   "metadata": {},
   "outputs": [],
   "source": [
    "model = BalancedRandomForestClassifier(random_state=0)"
   ]
  },
  {
   "cell_type": "code",
   "execution_count": 8,
   "metadata": {},
   "outputs": [
    {
     "data": {
      "text/plain": [
       "BalancedRandomForestClassifier(bootstrap=True, ccp_alpha=0.0, class_weight=None,\n",
       "                               criterion='gini', max_depth=None,\n",
       "                               max_features='auto', max_leaf_nodes=None,\n",
       "                               max_samples=None, min_impurity_decrease=0.0,\n",
       "                               min_samples_leaf=2, min_samples_split=2,\n",
       "                               min_weight_fraction_leaf=0.0, n_estimators=100,\n",
       "                               n_jobs=None, oob_score=False, random_state=0,\n",
       "                               replacement=False, sampling_strategy='auto',\n",
       "                               verbose=0, warm_start=False)"
      ]
     },
     "execution_count": 8,
     "metadata": {},
     "output_type": "execute_result"
    }
   ],
   "source": [
    "model.fit(X_resampled, y_resampled)"
   ]
  },
  {
   "cell_type": "code",
   "execution_count": 9,
   "metadata": {},
   "outputs": [
    {
     "name": "stdout",
     "output_type": "stream",
     "text": [
      "[1.11600057e-02 3.08663175e-02 1.02995668e-02 6.75430497e-03\n",
      " 4.97239946e-03 9.36632416e-03 3.43549771e-02 3.69698206e-03\n",
      " 7.86804987e-03 3.25539496e-03 3.36665850e-03 1.17549383e-02\n",
      " 1.01563375e-02 3.75765226e-02 3.75064116e-02 4.62933227e-02\n",
      " 2.80611295e-02 1.43110929e-02 0.00000000e+00 0.00000000e+00\n",
      " 2.41930139e-02 8.21325505e-04 0.00000000e+00 0.00000000e+00\n",
      " 5.25279470e-03 8.13737663e-03 4.14630761e-02 8.49416759e-03\n",
      " 2.34631960e-02 1.58077787e-02 9.17012428e-03 5.40403967e-03\n",
      " 3.03351790e-03 1.03466011e-02 1.15745297e-02 3.54245981e-03\n",
      " 4.43983092e-03 5.19498775e-03 2.38978772e-02 1.54209251e-02\n",
      " 2.51811609e-02 7.04016459e-03 6.28723790e-03 4.15946374e-03\n",
      " 3.40621987e-03 4.99168574e-04 0.00000000e+00 3.26688184e-03\n",
      " 3.14639924e-03 1.09730330e-02 1.18960909e-02 6.20810835e-03\n",
      " 5.52289041e-03 8.34996436e-03 8.75614167e-03 6.46365994e-03\n",
      " 4.23193267e-03 4.51851971e-03 3.67056449e-03 4.79771647e-03\n",
      " 3.13477794e-03 3.31600623e-03 4.22707482e-03 3.57842345e-03\n",
      " 0.00000000e+00 0.00000000e+00 3.83377443e-03 1.05861596e-02\n",
      " 3.23411560e-02 9.93444546e-03 1.12397135e-02 0.00000000e+00\n",
      " 1.02920434e-02 5.63037452e-03 4.43606755e-03 5.02161158e-03\n",
      " 4.91102875e-05 3.37850987e-03 1.37407644e-03 3.75488279e-03\n",
      " 0.00000000e+00 7.68071258e-03 2.11328788e-03 4.32497234e-03\n",
      " 2.46146829e-03 0.00000000e+00 0.00000000e+00 4.23213463e-02\n",
      " 1.47062812e-02 4.30138768e-02 8.25713864e-03 4.50110178e-02\n",
      " 2.99036653e-02 1.65499549e-02 7.87439276e-03]\n"
     ]
    }
   ],
   "source": [
    "print(model.feature_importances_)"
   ]
  },
  {
   "cell_type": "code",
   "execution_count": 10,
   "metadata": {},
   "outputs": [
    {
     "data": {
      "text/plain": [
       "array([[   35,    66],\n",
       "       [    6, 17098]])"
      ]
     },
     "execution_count": 10,
     "metadata": {},
     "output_type": "execute_result"
    }
   ],
   "source": [
    "y_pred = model.predict(X_test)\n",
    "confusion_matrix(y_test, y_pred)"
   ]
  },
  {
   "cell_type": "code",
   "execution_count": 11,
   "metadata": {},
   "outputs": [
    {
     "data": {
      "text/plain": [
       "0.6730919291648529"
      ]
     },
     "execution_count": 11,
     "metadata": {},
     "output_type": "execute_result"
    }
   ],
   "source": [
    "balanced_accuracy_score(y_test, y_pred)"
   ]
  },
  {
   "cell_type": "code",
   "execution_count": 12,
   "metadata": {},
   "outputs": [
    {
     "name": "stdout",
     "output_type": "stream",
     "text": [
      "                   pre       rec       spe        f1       geo       iba       sup\n",
      "\n",
      "          0       0.85      0.35      1.00      0.49      0.59      0.32       101\n",
      "          1       1.00      1.00      0.35      1.00      0.59      0.37     17104\n",
      "\n",
      "avg / total       1.00      1.00      0.35      0.99      0.59      0.37     17205\n",
      "\n"
     ]
    }
   ],
   "source": [
    "print(classification_report_imbalanced(y_test, y_pred))"
   ]
  },
  {
   "cell_type": "code",
   "execution_count": null,
   "metadata": {},
   "outputs": [],
   "source": []
  }
 ],
 "metadata": {
  "kernelspec": {
   "display_name": "mlenv",
   "language": "python",
   "name": "mlenv"
  },
  "language_info": {
   "codemirror_mode": {
    "name": "ipython",
    "version": 3
   },
   "file_extension": ".py",
   "mimetype": "text/x-python",
   "name": "python",
   "nbconvert_exporter": "python",
   "pygments_lexer": "ipython3",
   "version": "3.7.6"
  }
 },
 "nbformat": 4,
 "nbformat_minor": 4
}
